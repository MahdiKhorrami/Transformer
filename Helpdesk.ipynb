{
 "cells": [
  {
   "cell_type": "code",
   "execution_count": 1,
   "id": "38ad8608",
   "metadata": {},
   "outputs": [],
   "source": [
    "import os\n",
    "import wget\n",
    "import argparse\n",
    "import pm4py\n",
    "import numpy as np\n",
    "import pandas as pd\n",
    "import tensorflow as tf\n",
    "from sklearn import metrics \n",
    "\n",
    "from processtransformer import constants\n",
    "from processtransformer.models import transformer\n",
    "from processtransformer.data.loader import LogsDataLoader\n",
    "from processtransformer.data.processor import LogsDataProcessor\n"
   ]
  },
  {
   "cell_type": "code",
   "execution_count": 2,
   "id": "ed46a85c",
   "metadata": {},
   "outputs": [],
   "source": [
    "import warnings\n",
    "warnings.filterwarnings(\"ignore\")"
   ]
  },
  {
   "cell_type": "code",
   "execution_count": 29,
   "id": "8eb75f27",
   "metadata": {},
   "outputs": [],
   "source": [
    "data_dir = \"./datasets/\"\n",
    "_ = wget.download(\"https://data.4tu.nl/file/94ee26c8-78f6-4387-b32b-f028f2103a2c/697ff9af-fca0-4363-bd84-e81735d27e9f\")\n"
   ]
  },
  {
   "cell_type": "code",
   "execution_count": 4,
   "id": "1e074403",
   "metadata": {},
   "outputs": [
    {
     "data": {
      "text/html": [
       "<div>\n",
       "<style scoped>\n",
       "    .dataframe tbody tr th:only-of-type {\n",
       "        vertical-align: middle;\n",
       "    }\n",
       "\n",
       "    .dataframe tbody tr th {\n",
       "        vertical-align: top;\n",
       "    }\n",
       "\n",
       "    .dataframe thead th {\n",
       "        text-align: right;\n",
       "    }\n",
       "</style>\n",
       "<table border=\"1\" class=\"dataframe\">\n",
       "  <thead>\n",
       "    <tr style=\"text-align: right;\">\n",
       "      <th></th>\n",
       "      <th>org:group</th>\n",
       "      <th>resource country</th>\n",
       "      <th>organization country</th>\n",
       "      <th>org:resource</th>\n",
       "      <th>organization involved</th>\n",
       "      <th>org:role</th>\n",
       "      <th>concept:name</th>\n",
       "      <th>impact</th>\n",
       "      <th>product</th>\n",
       "      <th>lifecycle:transition</th>\n",
       "      <th>time:timestamp</th>\n",
       "      <th>case:concept:name</th>\n",
       "    </tr>\n",
       "  </thead>\n",
       "  <tbody>\n",
       "    <tr>\n",
       "      <th>0</th>\n",
       "      <td>Org line A2</td>\n",
       "      <td>INDIA</td>\n",
       "      <td>se</td>\n",
       "      <td>Minnie</td>\n",
       "      <td>J11 2nd</td>\n",
       "      <td>A2_2</td>\n",
       "      <td>Queued</td>\n",
       "      <td>High</td>\n",
       "      <td>PROD191</td>\n",
       "      <td>Awaiting Assignment</td>\n",
       "      <td>2006-01-11 14:49:42+00:00</td>\n",
       "      <td>1-109135791</td>\n",
       "    </tr>\n",
       "    <tr>\n",
       "      <th>1</th>\n",
       "      <td>Org line A2</td>\n",
       "      <td>INDIA</td>\n",
       "      <td>se</td>\n",
       "      <td>Minnie</td>\n",
       "      <td>J11 2nd</td>\n",
       "      <td>A2_2</td>\n",
       "      <td>Accepted</td>\n",
       "      <td>High</td>\n",
       "      <td>PROD191</td>\n",
       "      <td>In Progress</td>\n",
       "      <td>2012-03-15 10:53:52+00:00</td>\n",
       "      <td>1-109135791</td>\n",
       "    </tr>\n",
       "    <tr>\n",
       "      <th>2</th>\n",
       "      <td>Org line A2</td>\n",
       "      <td>INDIA</td>\n",
       "      <td>se</td>\n",
       "      <td>Minnie</td>\n",
       "      <td>J11 2nd</td>\n",
       "      <td>A2_2</td>\n",
       "      <td>Accepted</td>\n",
       "      <td>High</td>\n",
       "      <td>PROD191</td>\n",
       "      <td>Assigned</td>\n",
       "      <td>2012-03-15 10:56:17+00:00</td>\n",
       "      <td>1-109135791</td>\n",
       "    </tr>\n",
       "    <tr>\n",
       "      <th>3</th>\n",
       "      <td>Org line A2</td>\n",
       "      <td>INDIA</td>\n",
       "      <td>se</td>\n",
       "      <td>Minnie</td>\n",
       "      <td>J11 2nd</td>\n",
       "      <td>A2_2</td>\n",
       "      <td>Accepted</td>\n",
       "      <td>High</td>\n",
       "      <td>PROD191</td>\n",
       "      <td>In Progress</td>\n",
       "      <td>2012-03-15 11:09:05+00:00</td>\n",
       "      <td>1-109135791</td>\n",
       "    </tr>\n",
       "    <tr>\n",
       "      <th>4</th>\n",
       "      <td>Org line A2</td>\n",
       "      <td>INDIA</td>\n",
       "      <td>se</td>\n",
       "      <td>Minnie</td>\n",
       "      <td>J11 2nd</td>\n",
       "      <td>A2_2</td>\n",
       "      <td>Completed</td>\n",
       "      <td>High</td>\n",
       "      <td>PROD191</td>\n",
       "      <td>Closed</td>\n",
       "      <td>2012-03-15 11:11:33+00:00</td>\n",
       "      <td>1-109135791</td>\n",
       "    </tr>\n",
       "    <tr>\n",
       "      <th>...</th>\n",
       "      <td>...</td>\n",
       "      <td>...</td>\n",
       "      <td>...</td>\n",
       "      <td>...</td>\n",
       "      <td>...</td>\n",
       "      <td>...</td>\n",
       "      <td>...</td>\n",
       "      <td>...</td>\n",
       "      <td>...</td>\n",
       "      <td>...</td>\n",
       "      <td>...</td>\n",
       "      <td>...</td>\n",
       "    </tr>\n",
       "    <tr>\n",
       "      <th>6655</th>\n",
       "      <td>Org line C</td>\n",
       "      <td>Sweden</td>\n",
       "      <td>se</td>\n",
       "      <td>Karl</td>\n",
       "      <td>G161 2nd</td>\n",
       "      <td>E_7</td>\n",
       "      <td>Completed</td>\n",
       "      <td>Medium</td>\n",
       "      <td>PROD671</td>\n",
       "      <td>Closed</td>\n",
       "      <td>2012-05-30 13:04:30+00:00</td>\n",
       "      <td>1-752134249</td>\n",
       "    </tr>\n",
       "    <tr>\n",
       "      <th>6656</th>\n",
       "      <td>Org line A2</td>\n",
       "      <td>Sweden</td>\n",
       "      <td>se</td>\n",
       "      <td>Niklas</td>\n",
       "      <td>U6 2nd</td>\n",
       "      <td>A2_3</td>\n",
       "      <td>Accepted</td>\n",
       "      <td>Major</td>\n",
       "      <td>PROD831</td>\n",
       "      <td>In Progress</td>\n",
       "      <td>2012-05-31 09:58:45+00:00</td>\n",
       "      <td>1-752600115</td>\n",
       "    </tr>\n",
       "    <tr>\n",
       "      <th>6657</th>\n",
       "      <td>Org line A2</td>\n",
       "      <td>Sweden</td>\n",
       "      <td>se</td>\n",
       "      <td>Niklas</td>\n",
       "      <td>U6 2nd</td>\n",
       "      <td>A2_3</td>\n",
       "      <td>Completed</td>\n",
       "      <td>Major</td>\n",
       "      <td>PROD831</td>\n",
       "      <td>Closed</td>\n",
       "      <td>2012-05-31 10:01:24+00:00</td>\n",
       "      <td>1-752600115</td>\n",
       "    </tr>\n",
       "    <tr>\n",
       "      <th>6658</th>\n",
       "      <td>Org line G3</td>\n",
       "      <td>POLAND</td>\n",
       "      <td>us</td>\n",
       "      <td>Ewa</td>\n",
       "      <td>G199 3rd</td>\n",
       "      <td>NaN</td>\n",
       "      <td>Accepted</td>\n",
       "      <td>High</td>\n",
       "      <td>PROD97</td>\n",
       "      <td>In Progress</td>\n",
       "      <td>2012-05-31 18:07:59+00:00</td>\n",
       "      <td>1-752835764</td>\n",
       "    </tr>\n",
       "    <tr>\n",
       "      <th>6659</th>\n",
       "      <td>Org line G3</td>\n",
       "      <td>POLAND</td>\n",
       "      <td>us</td>\n",
       "      <td>Ewa</td>\n",
       "      <td>G199 3rd</td>\n",
       "      <td>NaN</td>\n",
       "      <td>Completed</td>\n",
       "      <td>High</td>\n",
       "      <td>PROD97</td>\n",
       "      <td>Closed</td>\n",
       "      <td>2012-05-31 18:09:21+00:00</td>\n",
       "      <td>1-752835764</td>\n",
       "    </tr>\n",
       "  </tbody>\n",
       "</table>\n",
       "<p>6660 rows × 12 columns</p>\n",
       "</div>"
      ],
      "text/plain": [
       "        org:group resource country organization country org:resource  \\\n",
       "0     Org line A2            INDIA                   se       Minnie   \n",
       "1     Org line A2            INDIA                   se       Minnie   \n",
       "2     Org line A2            INDIA                   se       Minnie   \n",
       "3     Org line A2            INDIA                   se       Minnie   \n",
       "4     Org line A2            INDIA                   se       Minnie   \n",
       "...           ...              ...                  ...          ...   \n",
       "6655   Org line C           Sweden                   se         Karl   \n",
       "6656  Org line A2           Sweden                   se       Niklas   \n",
       "6657  Org line A2           Sweden                   se       Niklas   \n",
       "6658  Org line G3           POLAND                   us          Ewa   \n",
       "6659  Org line G3           POLAND                   us          Ewa   \n",
       "\n",
       "     organization involved org:role concept:name  impact  product  \\\n",
       "0                  J11 2nd     A2_2       Queued    High  PROD191   \n",
       "1                  J11 2nd     A2_2     Accepted    High  PROD191   \n",
       "2                  J11 2nd     A2_2     Accepted    High  PROD191   \n",
       "3                  J11 2nd     A2_2     Accepted    High  PROD191   \n",
       "4                  J11 2nd     A2_2    Completed    High  PROD191   \n",
       "...                    ...      ...          ...     ...      ...   \n",
       "6655              G161 2nd      E_7    Completed  Medium  PROD671   \n",
       "6656                U6 2nd     A2_3     Accepted   Major  PROD831   \n",
       "6657                U6 2nd     A2_3    Completed   Major  PROD831   \n",
       "6658              G199 3rd      NaN     Accepted    High   PROD97   \n",
       "6659              G199 3rd      NaN    Completed    High   PROD97   \n",
       "\n",
       "     lifecycle:transition            time:timestamp case:concept:name  \n",
       "0     Awaiting Assignment 2006-01-11 14:49:42+00:00       1-109135791  \n",
       "1             In Progress 2012-03-15 10:53:52+00:00       1-109135791  \n",
       "2                Assigned 2012-03-15 10:56:17+00:00       1-109135791  \n",
       "3             In Progress 2012-03-15 11:09:05+00:00       1-109135791  \n",
       "4                  Closed 2012-03-15 11:11:33+00:00       1-109135791  \n",
       "...                   ...                       ...               ...  \n",
       "6655               Closed 2012-05-30 13:04:30+00:00       1-752134249  \n",
       "6656          In Progress 2012-05-31 09:58:45+00:00       1-752600115  \n",
       "6657               Closed 2012-05-31 10:01:24+00:00       1-752600115  \n",
       "6658          In Progress 2012-05-31 18:07:59+00:00       1-752835764  \n",
       "6659               Closed 2012-05-31 18:09:21+00:00       1-752835764  \n",
       "\n",
       "[6660 rows x 12 columns]"
      ]
     },
     "execution_count": 4,
     "metadata": {},
     "output_type": "execute_result"
    }
   ],
   "source": []
  },
  {
   "cell_type": "code",
   "execution_count": 10,
   "id": "deeff2c1",
   "metadata": {},
   "outputs": [],
   "source": [
    "data_processor = LogsDataProcessor(name='Helpdesk', filepath=\"finale.csv\",  \n",
    "                                    columns = [\"Case ID\", \"Activity\", \"Complete Timestamp\"], #specify the columns name containing case_id, activity name and timestamp \n",
    "                                    dir_path='datasets', pool = 4)\n",
    "data_processor.process_logs(task=constants.Task.NEXT_ACTIVITY, sort_temporally= False)"
   ]
  },
  {
   "cell_type": "code",
   "execution_count": 11,
   "id": "a9054215",
   "metadata": {},
   "outputs": [],
   "source": [
    "# Load data\n",
    "data_loader = LogsDataLoader(name = 'Helpdesk')\n",
    "\n",
    "(train_df, test_df, x_word_dict, y_word_dict, max_case_length, \n",
    "    vocab_size, num_output) = data_loader.load_data(constants.Task.NEXT_ACTIVITY)\n",
    "\n",
    "# Prepare training examples for next activity prediction task\n",
    "train_token_x, train_token_y = data_loader.prepare_data_next_activity(train_df, \n",
    "    x_word_dict, y_word_dict, max_case_length)"
   ]
  },
  {
   "cell_type": "code",
   "execution_count": 12,
   "id": "6c88eb45",
   "metadata": {},
   "outputs": [],
   "source": [
    "learning_rate = 0.001\n",
    "batch_size = 12\n",
    "epochs = 10"
   ]
  },
  {
   "cell_type": "code",
   "execution_count": 13,
   "id": "6f4d5f32",
   "metadata": {},
   "outputs": [
    {
     "name": "stdout",
     "output_type": "stream",
     "text": [
      "Epoch 1/10\n",
      "1121/1121 [==============================] - 26s 13ms/step - loss: 0.8139 - sparse_categorical_accuracy: 0.7392\n",
      "Epoch 2/10\n",
      "1121/1121 [==============================] - 14s 13ms/step - loss: 0.6542 - sparse_categorical_accuracy: 0.7907\n",
      "Epoch 3/10\n",
      "1121/1121 [==============================] - 14s 13ms/step - loss: 0.6448 - sparse_categorical_accuracy: 0.7898\n",
      "Epoch 4/10\n",
      "1121/1121 [==============================] - 16s 15ms/step - loss: 0.6367 - sparse_categorical_accuracy: 0.7921\n",
      "Epoch 5/10\n",
      "1121/1121 [==============================] - 15s 14ms/step - loss: 0.6327 - sparse_categorical_accuracy: 0.7926\n",
      "Epoch 6/10\n",
      "1121/1121 [==============================] - 14s 13ms/step - loss: 0.6336 - sparse_categorical_accuracy: 0.7934\n",
      "Epoch 7/10\n",
      "1121/1121 [==============================] - 14s 12ms/step - loss: 0.6330 - sparse_categorical_accuracy: 0.7923\n",
      "Epoch 8/10\n",
      "1121/1121 [==============================] - 14s 12ms/step - loss: 0.6280 - sparse_categorical_accuracy: 0.7921\n",
      "Epoch 9/10\n",
      "1121/1121 [==============================] - 14s 13ms/step - loss: 0.6284 - sparse_categorical_accuracy: 0.7935\n",
      "Epoch 10/10\n",
      "1121/1121 [==============================] - 14s 13ms/step - loss: 0.6266 - sparse_categorical_accuracy: 0.7948\n"
     ]
    },
    {
     "data": {
      "text/plain": [
       "<keras.callbacks.History at 0x25892620d90>"
      ]
     },
     "execution_count": 13,
     "metadata": {},
     "output_type": "execute_result"
    }
   ],
   "source": [
    "# Create and train a transformer model\n",
    "transformer_model = transformer.get_next_activity_model(\n",
    "    max_case_length=max_case_length, \n",
    "    vocab_size=vocab_size,\n",
    "    output_dim=num_output)\n",
    "\n",
    "transformer_model.compile(optimizer=tf.keras.optimizers.Adam(learning_rate),\n",
    "    loss=tf.keras.losses.SparseCategoricalCrossentropy(from_logits=True),\n",
    "    metrics=[tf.keras.metrics.SparseCategoricalAccuracy()])\n",
    "\n",
    "transformer_model.fit(train_token_x, train_token_y, \n",
    "    epochs=epochs, batch_size=batch_size)"
   ]
  },
  {
   "cell_type": "code",
   "execution_count": 14,
   "id": "3e1730b0",
   "metadata": {},
   "outputs": [
    {
     "name": "stdout",
     "output_type": "stream",
     "text": [
      "29/29 [==============================] - 1s 8ms/step\n",
      "29/29 [==============================] - 0s 8ms/step\n",
      "28/28 [==============================] - 0s 8ms/step\n",
      "12/12 [==============================] - 0s 9ms/step\n",
      "5/5 [==============================] - 0s 9ms/step\n",
      "3/3 [==============================] - 0s 8ms/step\n",
      "2/2 [==============================] - 0s 6ms/step\n",
      "1/1 [==============================] - 0s 63ms/step\n",
      "1/1 [==============================] - 0s 80ms/step\n",
      "1/1 [==============================] - 0s 81ms/step\n",
      "1/1 [==============================] - 0s 77ms/step\n",
      "1/1 [==============================] - 0s 84ms/step\n"
     ]
    }
   ],
   "source": [
    "# Evaluate over all the prefixes (k) and save the results\n",
    "k, accuracies,fscores, precisions, recalls = [],[],[],[],[]\n",
    "for i in range(max_case_length):\n",
    "    test_data_subset = test_df[test_df[\"k\"]==i]\n",
    "    if len(test_data_subset) > 0:\n",
    "        test_token_x, test_token_y = data_loader.prepare_data_next_activity(test_data_subset, \n",
    "            x_word_dict, y_word_dict, max_case_length)   \n",
    "        y_pred = np.argmax(transformer_model.predict(test_token_x), axis=1)\n",
    "        accuracy = metrics.accuracy_score(test_token_y, y_pred)\n",
    "        precision, recall, fscore, _ = metrics.precision_recall_fscore_support(\n",
    "            test_token_y, y_pred, average=\"weighted\")\n",
    "        k.append(i)\n",
    "        accuracies.append(accuracy)\n",
    "        fscores.append(fscore)\n",
    "        precisions.append(precision)\n",
    "        recalls.append(recall)\n",
    "\n",
    "k.append(i + 1)\n",
    "accuracies.append(np.mean(accuracy))\n",
    "fscores.append(np.mean(fscores))\n",
    "precisions.append(np.mean(precisions))\n",
    "recalls.append(np.mean(recalls))"
   ]
  },
  {
   "cell_type": "code",
   "execution_count": 15,
   "id": "4e954582",
   "metadata": {},
   "outputs": [
    {
     "name": "stdout",
     "output_type": "stream",
     "text": [
      "Average accuracy across all prefixes: 0.8465945429046428\n",
      "Average f-score across all prefixes: 0.7946957040059228\n",
      "Average precision across all prefixes: 0.8022292362341974\n",
      "Average recall across all prefixes: 0.833810754813363\n"
     ]
    }
   ],
   "source": [
    "print('Average accuracy across all prefixes:', np.mean(accuracies))\n",
    "print('Average f-score across all prefixes:', np.mean(fscores))\n",
    "print('Average precision across all prefixes:', np.mean(precisions))\n",
    "print('Average recall across all prefixes:', np.mean(recalls))"
   ]
  },
  {
   "cell_type": "code",
   "execution_count": null,
   "id": "2f1589b4",
   "metadata": {},
   "outputs": [],
   "source": []
  },
  {
   "cell_type": "code",
   "execution_count": 16,
   "id": "0f7518d3",
   "metadata": {},
   "outputs": [],
   "source": [
    "data_processor = LogsDataProcessor(name='Helpdesk', filepath=\"finale.csv\",  \n",
    "                                    columns = [\"Case ID\", \"Activity\", \"Complete Timestamp\"],  #specify the columns name containing case_id, activity name and timestamp \n",
    "                                    dir_path='datasets', pool = 4)\n",
    "data_processor.process_logs(task=constants.Task.NEXT_TIME, sort_temporally= False)"
   ]
  },
  {
   "cell_type": "code",
   "execution_count": 17,
   "id": "b08d03d5",
   "metadata": {},
   "outputs": [],
   "source": [
    "# Load data\n",
    "data_loader = LogsDataLoader(name = 'Helpdesk')\n",
    "\n",
    "(train_df, test_df, x_word_dict, y_word_dict, max_case_length, \n",
    "    vocab_size, num_output) = data_loader.load_data(constants.Task.NEXT_TIME)\n",
    "\n",
    "# Prepare training examples for next time prediction task\n",
    "(train_token_x, train_time_x, train_token_y, time_scaler, y_scaler) = \\\n",
    "                                    data_loader.prepare_data_next_time(train_df, x_word_dict, max_case_length)"
   ]
  },
  {
   "cell_type": "code",
   "execution_count": 18,
   "id": "c26ddb2a",
   "metadata": {},
   "outputs": [],
   "source": [
    "learning_rate = 0.001\n",
    "batch_size = 12\n",
    "epochs = 1"
   ]
  },
  {
   "cell_type": "code",
   "execution_count": 19,
   "id": "d4cb4882",
   "metadata": {},
   "outputs": [
    {
     "name": "stdout",
     "output_type": "stream",
     "text": [
      "1426/1426 - 28s - loss: 0.1573 - 28s/epoch - 20ms/step\n"
     ]
    },
    {
     "data": {
      "text/plain": [
       "<keras.callbacks.History at 0x2589294d550>"
      ]
     },
     "execution_count": 19,
     "metadata": {},
     "output_type": "execute_result"
    }
   ],
   "source": [
    "# Create and train a transformer model\n",
    "transformer_model = transformer.get_next_time_model(\n",
    "        max_case_length=max_case_length, \n",
    "        vocab_size=vocab_size)\n",
    "\n",
    "transformer_model.compile(optimizer=tf.keras.optimizers.Adam(learning_rate),\n",
    "        loss=tf.keras.losses.LogCosh())\n",
    "\n",
    "transformer_model.fit([train_token_x, train_time_x], train_token_y, \n",
    "        epochs=epochs, batch_size=batch_size, verbose=2)"
   ]
  },
  {
   "cell_type": "code",
   "execution_count": 20,
   "id": "d75b7952",
   "metadata": {},
   "outputs": [
    {
     "name": "stdout",
     "output_type": "stream",
     "text": [
      "29/29 [==============================] - 1s 9ms/step\n",
      "29/29 [==============================] - 0s 9ms/step\n",
      "29/29 [==============================] - 0s 9ms/step\n",
      "28/28 [==============================] - 0s 9ms/step\n",
      "12/12 [==============================] - 0s 11ms/step\n",
      "5/5 [==============================] - 0s 9ms/step\n",
      "3/3 [==============================] - 0s 7ms/step\n",
      "2/2 [==============================] - 0s 5ms/step\n",
      "1/1 [==============================] - 0s 215ms/step\n",
      "1/1 [==============================] - 0s 91ms/step\n",
      "1/1 [==============================] - 0s 92ms/step\n",
      "1/1 [==============================] - 0s 79ms/step\n",
      "1/1 [==============================] - 0s 92ms/step\n"
     ]
    }
   ],
   "source": [
    "# Evaluate over all the prefixes (k) and save the results\n",
    "k, maes, mses, rmses = [],[],[],[]\n",
    "for i in range(max_case_length):\n",
    "    test_data_subset = test_df[test_df[\"k\"]==i]\n",
    "    if len(test_data_subset) > 0:\n",
    "        test_token_x, test_time_x, test_y, _, _ = data_loader.prepare_data_next_time(\n",
    "            test_data_subset, x_word_dict, max_case_length, time_scaler, y_scaler, False)   \n",
    "\n",
    "        y_pred = transformer_model.predict([test_token_x, test_time_x])\n",
    "        _test_y = y_scaler.inverse_transform(test_y)\n",
    "        _y_pred = y_scaler.inverse_transform(y_pred)\n",
    "\n",
    "        k.append(i)\n",
    "        maes.append(metrics.mean_absolute_error(_test_y, _y_pred))\n",
    "        mses.append(metrics.mean_squared_error(_test_y, _y_pred))\n",
    "        rmses.append(np.sqrt(metrics.mean_squared_error(_test_y, _y_pred)))\n",
    "\n",
    "k.append(i + 1)\n",
    "maes.append(np.mean(maes))\n",
    "mses.append(np.mean(mses))\n",
    "rmses.append(np.mean(rmses))  "
   ]
  },
  {
   "cell_type": "code",
   "execution_count": 21,
   "id": "f46861cd",
   "metadata": {},
   "outputs": [
    {
     "name": "stdout",
     "output_type": "stream",
     "text": [
      "Average MAE across all prefixes: 3.538343\n",
      "Average MSE across all prefixes: 33.242516\n",
      "Average RMSE across all prefixes: 5.3476806\n"
     ]
    }
   ],
   "source": [
    "print('Average MAE across all prefixes:', np.mean(maes))\n",
    "print('Average MSE across all prefixes:', np.mean(mses))\n",
    "print('Average RMSE across all prefixes:', np.mean(rmses))"
   ]
  },
  {
   "cell_type": "code",
   "execution_count": null,
   "id": "0481ac2e",
   "metadata": {},
   "outputs": [],
   "source": []
  },
  {
   "cell_type": "code",
   "execution_count": 22,
   "id": "b0035967",
   "metadata": {},
   "outputs": [],
   "source": [
    "data_processor = LogsDataProcessor(name='Helpdesk', filepath=\"finale.csv\",  \n",
    "                                    columns = [\"Case ID\", \"Activity\", \"Complete Timestamp\"],  #specify the columns name containing case_id, activity name and timestamp \n",
    "                                    dir_path='datasets', pool = 4)\n",
    "data_processor.process_logs(task=constants.Task.REMAINING_TIME, sort_temporally= False)"
   ]
  },
  {
   "cell_type": "code",
   "execution_count": 23,
   "id": "b25fc664",
   "metadata": {},
   "outputs": [],
   "source": [
    "# Load data\n",
    "data_loader = LogsDataLoader(name = 'Helpdesk')\n",
    "\n",
    "(train_df, test_df, x_word_dict, y_word_dict, max_case_length, \n",
    "    vocab_size, num_output) = data_loader.load_data(constants.Task.REMAINING_TIME)\n",
    "\n",
    "# Prepare training examples for next time prediction task\n",
    "(train_token_x, train_time_x, \n",
    "    train_token_y, time_scaler, y_scaler) = data_loader.prepare_data_remaining_time(train_df, \n",
    "    x_word_dict, max_case_length)"
   ]
  },
  {
   "cell_type": "code",
   "execution_count": 24,
   "id": "feb861ae",
   "metadata": {},
   "outputs": [],
   "source": [
    "learning_rate = 0.001\n",
    "batch_size = 12\n",
    "epochs = 1"
   ]
  },
  {
   "cell_type": "code",
   "execution_count": 26,
   "id": "81ea2565",
   "metadata": {},
   "outputs": [
    {
     "name": "stdout",
     "output_type": "stream",
     "text": [
      "1426/1426 - 33s - loss: 0.0919 - 33s/epoch - 23ms/step\n"
     ]
    },
    {
     "data": {
      "text/plain": [
       "<keras.callbacks.History at 0x258972659a0>"
      ]
     },
     "execution_count": 26,
     "metadata": {},
     "output_type": "execute_result"
    }
   ],
   "source": [
    "# Create and train a transformer model\n",
    "transformer_model = transformer.get_remaining_time_model(\n",
    "    max_case_length=max_case_length, \n",
    "    vocab_size=vocab_size)\n",
    "\n",
    "transformer_model.compile(optimizer=tf.keras.optimizers.Adam(learning_rate),\n",
    "    loss=tf.keras.losses.LogCosh())\n",
    "\n",
    "transformer_model.fit([train_token_x, train_time_x], train_token_y, \n",
    "        epochs=epochs, batch_size=batch_size, verbose=2)"
   ]
  },
  {
   "cell_type": "code",
   "execution_count": 27,
   "id": "8e27994f",
   "metadata": {},
   "outputs": [
    {
     "name": "stdout",
     "output_type": "stream",
     "text": [
      "29/29 [==============================] - 1s 13ms/step\n",
      "29/29 [==============================] - 0s 12ms/step\n",
      "29/29 [==============================] - 0s 10ms/step\n",
      "28/28 [==============================] - 0s 9ms/step\n",
      "12/12 [==============================] - 0s 8ms/step\n",
      "5/5 [==============================] - 0s 12ms/step\n",
      "3/3 [==============================] - 0s 8ms/step\n",
      "2/2 [==============================] - 0s 8ms/step\n",
      "1/1 [==============================] - 0s 75ms/step\n",
      "1/1 [==============================] - 0s 74ms/step\n",
      "1/1 [==============================] - 0s 87ms/step\n",
      "1/1 [==============================] - 0s 89ms/step\n",
      "1/1 [==============================] - 0s 80ms/step\n"
     ]
    }
   ],
   "source": [
    "# Evaluate over all the prefixes (k) and save the results\n",
    "k, maes, mses, rmses = [],[],[],[]\n",
    "for i in range(max_case_length):\n",
    "    test_data_subset = test_df[test_df[\"k\"]==i]\n",
    "    if len(test_data_subset) > 0:\n",
    "        test_token_x, test_time_x, test_y, _, _ = data_loader.prepare_data_remaining_time(\n",
    "            test_data_subset, x_word_dict, max_case_length, time_scaler, y_scaler, False)   \n",
    "\n",
    "        y_pred = transformer_model.predict([test_token_x, test_time_x])\n",
    "        _test_y = y_scaler.inverse_transform(test_y)\n",
    "        _y_pred = y_scaler.inverse_transform(y_pred)\n",
    "\n",
    "        k.append(i)\n",
    "        maes.append(metrics.mean_absolute_error(_test_y, _y_pred))\n",
    "        mses.append(metrics.mean_squared_error(_test_y, _y_pred))\n",
    "        rmses.append(np.sqrt(metrics.mean_squared_error(_test_y, _y_pred)))\n",
    "\n",
    "k.append(i + 1)\n",
    "maes.append(np.mean(maes))\n",
    "mses.append(np.mean(mses))\n",
    "rmses.append(np.mean(rmses))  "
   ]
  },
  {
   "cell_type": "code",
   "execution_count": 28,
   "id": "74c295ac",
   "metadata": {},
   "outputs": [
    {
     "name": "stdout",
     "output_type": "stream",
     "text": [
      "Average MAE across all prefixes: 3.7265153\n",
      "Average MSE across all prefixes: 30.006725\n",
      "Average RMSE across all prefixes: 4.9517913\n"
     ]
    }
   ],
   "source": [
    "print('Average MAE across all prefixes:', np.mean(maes))\n",
    "print('Average MSE across all prefixes:', np.mean(mses))\n",
    "print('Average RMSE across all prefixes:', np.mean(rmses))"
   ]
  },
  {
   "cell_type": "code",
   "execution_count": null,
   "id": "c2bed15c",
   "metadata": {},
   "outputs": [],
   "source": []
  },
  {
   "cell_type": "code",
   "execution_count": null,
   "id": "1f484cf7",
   "metadata": {},
   "outputs": [],
   "source": []
  }
 ],
 "metadata": {
  "kernelspec": {
   "display_name": "Python 3 (ipykernel)",
   "language": "python",
   "name": "python3"
  },
  "language_info": {
   "codemirror_mode": {
    "name": "ipython",
    "version": 3
   },
   "file_extension": ".py",
   "mimetype": "text/x-python",
   "name": "python",
   "nbconvert_exporter": "python",
   "pygments_lexer": "ipython3",
   "version": "3.9.13"
  }
 },
 "nbformat": 4,
 "nbformat_minor": 5
}
